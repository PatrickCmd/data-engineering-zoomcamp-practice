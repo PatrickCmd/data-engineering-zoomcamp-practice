{
 "cells": [
  {
   "cell_type": "code",
   "execution_count": 1,
   "metadata": {},
   "outputs": [],
   "source": [
    "import pyspark\n",
    "from pyspark.sql import SparkSession\n",
    "\n",
    "spark = SparkSession.builder \\\n",
    "    .master(\"local[*]\") \\\n",
    "    .appName('test') \\\n",
    "    .getOrCreate()"
   ]
  },
  {
   "cell_type": "code",
   "execution_count": 2,
   "metadata": {},
   "outputs": [],
   "source": [
    "df_green = spark.read.parquet('data/raw/green/*/*')"
   ]
  },
  {
   "cell_type": "code",
   "execution_count": 3,
   "metadata": {},
   "outputs": [],
   "source": [
    "df_green.createOrReplaceTempView('green')"
   ]
  },
  {
   "cell_type": "code",
   "execution_count": 4,
   "metadata": {},
   "outputs": [],
   "source": [
    "df_green_revenue = spark.sql(\"\"\"\n",
    "SELECT \n",
    "    date_trunc('hour', lpep_pickup_datetime) AS hour, \n",
    "    PULocationID AS zone,\n",
    "\n",
    "    SUM(total_amount) AS amount,\n",
    "    COUNT(1) AS number_records\n",
    "FROM\n",
    "    green\n",
    "WHERE\n",
    "    lpep_pickup_datetime >= '2020-01-01 00:00:00'\n",
    "GROUP BY\n",
    "    1, 2\n",
    "\"\"\")"
   ]
  },
  {
   "cell_type": "code",
   "execution_count": 5,
   "metadata": {},
   "outputs": [],
   "source": [
    "df_green_revenue \\\n",
    "    .repartition(20) \\\n",
    "    .write.parquet('data/report/revenue/green', mode='overwrite')"
   ]
  },
  {
   "cell_type": "code",
   "execution_count": 5,
   "metadata": {},
   "outputs": [],
   "source": [
    "df_yellow = spark.read.parquet('data/raw/yellow/*/*')\n",
    "df_yellow.createOrReplaceTempView('yellow')"
   ]
  },
  {
   "cell_type": "code",
   "execution_count": 6,
   "metadata": {},
   "outputs": [],
   "source": [
    "df_yellow_revenue = spark.sql(\"\"\"\n",
    "SELECT \n",
    "    date_trunc('hour', tpep_pickup_datetime) AS hour, \n",
    "    PULocationID AS zone,\n",
    "\n",
    "    SUM(total_amount) AS amount,\n",
    "    COUNT(1) AS number_records\n",
    "FROM\n",
    "    yellow\n",
    "WHERE\n",
    "    tpep_pickup_datetime >= '2020-01-01 00:00:00'\n",
    "GROUP BY\n",
    "    1, 2\n",
    "\"\"\")"
   ]
  },
  {
   "cell_type": "code",
   "execution_count": 8,
   "metadata": {},
   "outputs": [],
   "source": [
    "df_yellow_revenue \\\n",
    "    .repartition(20) \\\n",
    "    .write.parquet('data/report/revenue/yellow', mode='overwrite')"
   ]
  },
  {
   "cell_type": "code",
   "execution_count": 7,
   "metadata": {},
   "outputs": [],
   "source": [
    "df_green_revenue = spark.read.parquet('data/report/revenue/green')\n",
    "df_yellow_revenue = spark.read.parquet('data/report/revenue/yellow')"
   ]
  },
  {
   "cell_type": "code",
   "execution_count": 10,
   "metadata": {},
   "outputs": [],
   "source": [
    "df_green_revenue_tmp = df_green_revenue \\\n",
    "    .withColumnRenamed('amount', 'green_amount') \\\n",
    "    .withColumnRenamed('number_records', 'green_number_records')\n",
    "\n",
    "df_yellow_revenue_tmp = df_yellow_revenue \\\n",
    "    .withColumnRenamed('amount', 'yellow_amount') \\\n",
    "    .withColumnRenamed('number_records', 'yellow_number_records')"
   ]
  },
  {
   "cell_type": "code",
   "execution_count": 11,
   "metadata": {},
   "outputs": [],
   "source": [
    "df_join = df_green_revenue_tmp.join(df_yellow_revenue_tmp, on=['hour', 'zone'], how='outer')\n",
    "# df_join.show()"
   ]
  },
  {
   "cell_type": "code",
   "execution_count": 12,
   "metadata": {},
   "outputs": [],
   "source": [
    "df_join.write.parquet('data/report/revenue/total', mode='overwrite')"
   ]
  },
  {
   "cell_type": "code",
   "execution_count": 12,
   "metadata": {},
   "outputs": [],
   "source": [
    "df_join = spark.read.parquet('data/report/revenue/total')"
   ]
  },
  {
   "cell_type": "code",
   "execution_count": 13,
   "metadata": {},
   "outputs": [
    {
     "data": {
      "text/plain": [
       "DataFrame[hour: timestamp, zone: bigint, green_amount: double, green_number_records: bigint, yellow_amount: double, yellow_number_records: bigint]"
      ]
     },
     "execution_count": 13,
     "metadata": {},
     "output_type": "execute_result"
    }
   ],
   "source": [
    "df_join"
   ]
  },
  {
   "cell_type": "code",
   "execution_count": 14,
   "metadata": {},
   "outputs": [],
   "source": [
    "df_zones = spark.read.parquet('zones/')"
   ]
  },
  {
   "cell_type": "code",
   "execution_count": 15,
   "metadata": {},
   "outputs": [],
   "source": [
    "df_result = df_join.join(df_zones, df_join.zone == df_zones.LocationID)"
   ]
  },
  {
   "cell_type": "code",
   "execution_count": 17,
   "metadata": {},
   "outputs": [],
   "source": [
    "df_result.drop('LocationID', 'zone').write.parquet('data/report/revenue/revenue-zones')"
   ]
  },
  {
   "cell_type": "code",
   "execution_count": 19,
   "metadata": {},
   "outputs": [
    {
     "data": {
      "text/plain": [
       "[Row(hour=datetime.datetime(2020, 1, 1, 0, 0), zone=263, green_amount=None, green_number_records=None, yellow_amount=14.76, yellow_number_records=1, LocationID='263', Borough='Manhattan', Zone='Yorkville West', service_zone='Yellow Zone'),\n",
       " Row(hour=datetime.datetime(2020, 1, 1, 2, 0), zone=43, green_amount=None, green_number_records=None, yellow_amount=17.8, yellow_number_records=1, LocationID='43', Borough='Manhattan', Zone='Central Park', service_zone='Yellow Zone'),\n",
       " Row(hour=datetime.datetime(2020, 1, 1, 2, 0), zone=68, green_amount=None, green_number_records=None, yellow_amount=48.16, yellow_number_records=3, LocationID='68', Borough='Manhattan', Zone='East Chelsea', service_zone='Yellow Zone'),\n",
       " Row(hour=datetime.datetime(2020, 1, 1, 2, 0), zone=75, green_amount=18.3, green_number_records=1, yellow_amount=9.3, yellow_number_records=1, LocationID='75', Borough='Manhattan', Zone='East Harlem South', service_zone='Boro Zone'),\n",
       " Row(hour=datetime.datetime(2020, 1, 1, 2, 0), zone=82, green_amount=11.8, green_number_records=1, yellow_amount=None, yellow_number_records=None, LocationID='82', Borough='Queens', Zone='Elmhurst', service_zone='Boro Zone'),\n",
       " Row(hour=datetime.datetime(2020, 1, 1, 2, 0), zone=132, green_amount=None, green_number_records=None, yellow_amount=71.62, yellow_number_records=1, LocationID='132', Borough='Queens', Zone='JFK Airport', service_zone='Airports'),\n",
       " Row(hour=datetime.datetime(2020, 1, 1, 2, 0), zone=141, green_amount=None, green_number_records=None, yellow_amount=62.900000000000006, yellow_number_records=3, LocationID='141', Borough='Manhattan', Zone='Lenox Hill West', service_zone='Yellow Zone'),\n",
       " Row(hour=datetime.datetime(2020, 1, 1, 2, 0), zone=158, green_amount=None, green_number_records=None, yellow_amount=25.1, yellow_number_records=2, LocationID='158', Borough='Manhattan', Zone='Meatpacking/West Village West', service_zone='Yellow Zone'),\n",
       " Row(hour=datetime.datetime(2020, 1, 1, 2, 0), zone=164, green_amount=None, green_number_records=None, yellow_amount=34.6, yellow_number_records=2, LocationID='164', Borough='Manhattan', Zone='Midtown South', service_zone='Yellow Zone'),\n",
       " Row(hour=datetime.datetime(2020, 1, 1, 2, 0), zone=166, green_amount=None, green_number_records=None, yellow_amount=5.8, yellow_number_records=1, LocationID='166', Borough='Manhattan', Zone='Morningside Heights', service_zone='Boro Zone')]"
      ]
     },
     "execution_count": 19,
     "metadata": {},
     "output_type": "execute_result"
    }
   ],
   "source": [
    "df_result.head(10)"
   ]
  },
  {
   "cell_type": "code",
   "execution_count": null,
   "metadata": {},
   "outputs": [],
   "source": []
  }
 ],
 "metadata": {
  "kernelspec": {
   "display_name": "Python 3",
   "language": "python",
   "name": "python3"
  },
  "language_info": {
   "codemirror_mode": {
    "name": "ipython",
    "version": 3
   },
   "file_extension": ".py",
   "mimetype": "text/x-python",
   "name": "python",
   "nbconvert_exporter": "python",
   "pygments_lexer": "ipython3",
   "version": "3.8.5"
  }
 },
 "nbformat": 4,
 "nbformat_minor": 5
}
