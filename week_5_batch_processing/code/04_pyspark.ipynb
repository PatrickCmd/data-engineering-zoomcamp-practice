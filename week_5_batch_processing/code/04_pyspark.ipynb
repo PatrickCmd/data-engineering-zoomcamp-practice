{
 "cells": [
  {
   "cell_type": "code",
   "execution_count": 1,
   "metadata": {},
   "outputs": [],
   "source": [
    "import pyspark\n",
    "from pyspark.sql import SparkSession"
   ]
  },
  {
   "cell_type": "code",
   "execution_count": 2,
   "metadata": {},
   "outputs": [],
   "source": [
    "spark = SparkSession.builder \\\n",
    "    .master(\"local[*]\") \\\n",
    "    .appName('test') \\\n",
    "    .getOrCreate()"
   ]
  },
  {
   "cell_type": "code",
   "execution_count": 3,
   "metadata": {},
   "outputs": [
    {
     "name": "stdout",
     "output_type": "stream",
     "text": [
      "--2022-06-15 04:06:25--  https://nyc-tlc.s3.amazonaws.com/trip+data/fhvhv_tripdata_2021-01.parquet\n",
      "Resolving nyc-tlc.s3.amazonaws.com (nyc-tlc.s3.amazonaws.com)... 52.217.84.220\n",
      "Connecting to nyc-tlc.s3.amazonaws.com (nyc-tlc.s3.amazonaws.com)|52.217.84.220|:443... connected.\n",
      "HTTP request sent, awaiting response... 200 OK\n",
      "Length: 308924937 (295M) [application/x-www-form-urlencoded]\n",
      "Saving to: ‘fhvhv_tripdata_2021-01.parquet.1’\n",
      "\n",
      "fhvhv_tripdata_2021 100%[===================>] 294.61M  2.57MB/s    in 2m 13s  \n",
      "\n",
      "2022-06-15 04:08:39 (2.22 MB/s) - ‘fhvhv_tripdata_2021-01.parquet.1’ saved [308924937/308924937]\n",
      "\n"
     ]
    }
   ],
   "source": [
    "# !wget https://nyc-tlc.s3.amazonaws.com/trip+data/fhvhv_tripdata_2021-01.parquet"
   ]
  },
  {
   "cell_type": "code",
   "execution_count": 4,
   "metadata": {},
   "outputs": [
    {
     "name": "stdout",
     "output_type": "stream",
     "text": [
      " 1006794 fhvhv_tripdata_2021-01.parquet\r\n"
     ]
    }
   ],
   "source": [
    "!wc -l fhvhv_tripdata_2021-01.parquet"
   ]
  },
  {
   "cell_type": "code",
   "execution_count": 5,
   "metadata": {},
   "outputs": [],
   "source": [
    "df = spark.read \\\n",
    "    .option(\"header\", \"true\") \\\n",
    "    .parquet('fhvhv_tripdata_2021-01.parquet')"
   ]
  },
  {
   "cell_type": "code",
   "execution_count": 6,
   "metadata": {},
   "outputs": [
    {
     "data": {
      "text/plain": [
       "StructType(List(StructField(hvfhs_license_num,StringType,true),StructField(dispatching_base_num,StringType,true),StructField(originating_base_num,StringType,true),StructField(request_datetime,TimestampType,true),StructField(on_scene_datetime,TimestampType,true),StructField(pickup_datetime,TimestampType,true),StructField(dropoff_datetime,TimestampType,true),StructField(PULocationID,LongType,true),StructField(DOLocationID,LongType,true),StructField(trip_miles,DoubleType,true),StructField(trip_time,LongType,true),StructField(base_passenger_fare,DoubleType,true),StructField(tolls,DoubleType,true),StructField(bcf,DoubleType,true),StructField(sales_tax,DoubleType,true),StructField(congestion_surcharge,DoubleType,true),StructField(airport_fee,DoubleType,true),StructField(tips,DoubleType,true),StructField(driver_pay,DoubleType,true),StructField(shared_request_flag,StringType,true),StructField(shared_match_flag,StringType,true),StructField(access_a_ride_flag,StringType,true),StructField(wav_request_flag,StringType,true),StructField(wav_match_flag,StringType,true)))"
      ]
     },
     "execution_count": 6,
     "metadata": {},
     "output_type": "execute_result"
    }
   ],
   "source": [
    "df.schema"
   ]
  },
  {
   "cell_type": "code",
   "execution_count": 7,
   "metadata": {},
   "outputs": [],
   "source": [
    "# !head -n 1001 fhvhv_tripdata_2021-01.parquet > head.csv"
   ]
  },
  {
   "cell_type": "code",
   "execution_count": 8,
   "metadata": {},
   "outputs": [],
   "source": [
    "import pandas as pd\n",
    "import pyarrow.parquet as pq"
   ]
  },
  {
   "cell_type": "code",
   "execution_count": 9,
   "metadata": {},
   "outputs": [],
   "source": [
    "# df_pandas = pd.read_parquet('head.parquet')\n",
    "# Read data in chunks of size 100_000 and create a dataframe iterator\n",
    "filename = \"fhvhv_tripdata_2021-01.parquet\"\n",
    "pfile = pq.ParquetFile(filename)\n",
    "table_iter = pfile.iter_batches(batch_size=1001)\n",
    "table = next(table_iter)\n",
    "df_pandas = table.to_pandas()"
   ]
  },
  {
   "cell_type": "code",
   "execution_count": 10,
   "metadata": {},
   "outputs": [
    {
     "data": {
      "text/plain": [
       "hvfhs_license_num               object\n",
       "dispatching_base_num            object\n",
       "originating_base_num            object\n",
       "request_datetime        datetime64[ns]\n",
       "on_scene_datetime       datetime64[ns]\n",
       "pickup_datetime         datetime64[ns]\n",
       "dropoff_datetime        datetime64[ns]\n",
       "PULocationID                     int64\n",
       "DOLocationID                     int64\n",
       "trip_miles                     float64\n",
       "trip_time                        int64\n",
       "base_passenger_fare            float64\n",
       "tolls                          float64\n",
       "bcf                            float64\n",
       "sales_tax                      float64\n",
       "congestion_surcharge           float64\n",
       "airport_fee                    float64\n",
       "tips                           float64\n",
       "driver_pay                     float64\n",
       "shared_request_flag             object\n",
       "shared_match_flag               object\n",
       "access_a_ride_flag              object\n",
       "wav_request_flag                object\n",
       "wav_match_flag                  object\n",
       "dtype: object"
      ]
     },
     "execution_count": 10,
     "metadata": {},
     "output_type": "execute_result"
    }
   ],
   "source": [
    "df_pandas.dtypes"
   ]
  },
  {
   "cell_type": "code",
   "execution_count": 11,
   "metadata": {},
   "outputs": [
    {
     "data": {
      "text/plain": [
       "StructType(List(StructField(hvfhs_license_num,StringType,true),StructField(dispatching_base_num,StringType,true),StructField(originating_base_num,StringType,true),StructField(request_datetime,TimestampType,true),StructField(on_scene_datetime,TimestampType,true),StructField(pickup_datetime,TimestampType,true),StructField(dropoff_datetime,TimestampType,true),StructField(PULocationID,LongType,true),StructField(DOLocationID,LongType,true),StructField(trip_miles,DoubleType,true),StructField(trip_time,LongType,true),StructField(base_passenger_fare,DoubleType,true),StructField(tolls,DoubleType,true),StructField(bcf,DoubleType,true),StructField(sales_tax,DoubleType,true),StructField(congestion_surcharge,DoubleType,true),StructField(airport_fee,DoubleType,true),StructField(tips,DoubleType,true),StructField(driver_pay,DoubleType,true),StructField(shared_request_flag,StringType,true),StructField(shared_match_flag,StringType,true),StructField(access_a_ride_flag,StringType,true),StructField(wav_request_flag,StringType,true),StructField(wav_match_flag,StringType,true)))"
      ]
     },
     "execution_count": 11,
     "metadata": {},
     "output_type": "execute_result"
    }
   ],
   "source": [
    "spark.createDataFrame(df_pandas).schema"
   ]
  },
  {
   "cell_type": "markdown",
   "metadata": {},
   "source": [
    "Integer - 4 bytes\n",
    "Long - 8 bytes"
   ]
  },
  {
   "cell_type": "code",
   "execution_count": 12,
   "metadata": {},
   "outputs": [],
   "source": [
    "from pyspark.sql import types"
   ]
  },
  {
   "cell_type": "code",
   "execution_count": 13,
   "metadata": {},
   "outputs": [],
   "source": [
    "schema = types.StructType([\n",
    "        types.StructField(\"hvfhs_license_num\", types.StringType(), True),\n",
    "        types.StructField(\"dispatching_base_num\", types.StringType(), True),\n",
    "        types.StructField(\"originating_base_num\", types.StringType(), True),\n",
    "        types.StructField(\"request_datetime\", types.TimestampType(), True),\n",
    "        types.StructField(\"on_scene_datetime\", types.TimestampType(), True),\n",
    "        types.StructField(\"pickup_datetime\", types.TimestampType(), True),\n",
    "        types.StructField(\"dropoff_datetime\", types.TimestampType(), True),\n",
    "        types.StructField(\"PULocationID\", types.IntegerType(), True),\n",
    "        types.StructField(\"DOLocationID\", types.IntegerType(), True),\n",
    "        types.StructField(\"trip_miles\", types.FloatType(), True),\n",
    "        types.StructField(\"trip_time\", types.IntegerType(), True),\n",
    "        types.StructField(\"base_passenger_fare\", types.FloatType(), True),\n",
    "        types.StructField(\"tolls\", types.FloatType(), True),\n",
    "        types.StructField(\"bcf\", types.FloatType(), True),\n",
    "        types.StructField(\"sales_tax\", types.FloatType(), True),\n",
    "        types.StructField(\"congestion_surcharge\", types.FloatType(), True),\n",
    "        types.StructField(\"airport_fee\", types.FloatType(), True),\n",
    "        types.StructField(\"tips\", types.FloatType(), True),\n",
    "        types.StructField(\"driver_pay\", types.FloatType(), True),\n",
    "        types.StructField(\"shared_request_flag\", types.StringType(), True),\n",
    "        types.StructField(\"shared_match_flag\", types.StringType(), True),\n",
    "        types.StructField(\"access_a_ride_flag\", types.StringType(), True),\n",
    "        types.StructField(\"wav_request_flag\", types.StringType(), True),\n",
    "        types.StructField(\"wav_match_flag\", types.StringType(), True),\n",
    "])\n",
    "\n",
    "# df = spark.read \\\n",
    "#     .option(\"header\", \"true\") \\\n",
    "#     .schema(schema) \\\n",
    "#     .csv('fhvhv_tripdata_2021-01.csv')"
   ]
  },
  {
   "cell_type": "code",
   "execution_count": 14,
   "metadata": {},
   "outputs": [],
   "source": [
    "df = spark.read \\\n",
    "    .option(\"header\", \"true\") \\\n",
    "    .parquet('fhvhv_tripdata_2021-01.parquet')"
   ]
  },
  {
   "cell_type": "code",
   "execution_count": 15,
   "metadata": {},
   "outputs": [],
   "source": [
    "df = df.repartition(24)"
   ]
  },
  {
   "cell_type": "code",
   "execution_count": 17,
   "metadata": {},
   "outputs": [],
   "source": [
    "df.write.parquet('fhvhv/2021/01/')"
   ]
  },
  {
   "cell_type": "code",
   "execution_count": 18,
   "metadata": {},
   "outputs": [],
   "source": [
    "df = spark.read.parquet('fhvhv/2021/01/')"
   ]
  },
  {
   "cell_type": "code",
   "execution_count": 19,
   "metadata": {},
   "outputs": [
    {
     "name": "stdout",
     "output_type": "stream",
     "text": [
      "root\n",
      " |-- hvfhs_license_num: string (nullable = true)\n",
      " |-- dispatching_base_num: string (nullable = true)\n",
      " |-- originating_base_num: string (nullable = true)\n",
      " |-- request_datetime: timestamp (nullable = true)\n",
      " |-- on_scene_datetime: timestamp (nullable = true)\n",
      " |-- pickup_datetime: timestamp (nullable = true)\n",
      " |-- dropoff_datetime: timestamp (nullable = true)\n",
      " |-- PULocationID: long (nullable = true)\n",
      " |-- DOLocationID: long (nullable = true)\n",
      " |-- trip_miles: double (nullable = true)\n",
      " |-- trip_time: long (nullable = true)\n",
      " |-- base_passenger_fare: double (nullable = true)\n",
      " |-- tolls: double (nullable = true)\n",
      " |-- bcf: double (nullable = true)\n",
      " |-- sales_tax: double (nullable = true)\n",
      " |-- congestion_surcharge: double (nullable = true)\n",
      " |-- airport_fee: double (nullable = true)\n",
      " |-- tips: double (nullable = true)\n",
      " |-- driver_pay: double (nullable = true)\n",
      " |-- shared_request_flag: string (nullable = true)\n",
      " |-- shared_match_flag: string (nullable = true)\n",
      " |-- access_a_ride_flag: string (nullable = true)\n",
      " |-- wav_request_flag: string (nullable = true)\n",
      " |-- wav_match_flag: string (nullable = true)\n",
      "\n"
     ]
    }
   ],
   "source": [
    "df.printSchema()"
   ]
  },
  {
   "cell_type": "markdown",
   "metadata": {},
   "source": [
    "SELECT * FROM df WHERE hvfhs_license_num =  HV0003"
   ]
  },
  {
   "cell_type": "code",
   "execution_count": 20,
   "metadata": {},
   "outputs": [],
   "source": [
    "from pyspark.sql import functions as F"
   ]
  },
  {
   "cell_type": "code",
   "execution_count": 21,
   "metadata": {
    "scrolled": true
   },
   "outputs": [
    {
     "name": "stdout",
     "output_type": "stream",
     "text": [
      "+-----------------+--------------------+--------------------+-------------------+-------------------+-------------------+-------------------+------------+------------+----------+---------+-------------------+-----+----+---------+--------------------+-----------+----+----------+-------------------+-----------------+------------------+----------------+--------------+\n",
      "|hvfhs_license_num|dispatching_base_num|originating_base_num|   request_datetime|  on_scene_datetime|    pickup_datetime|   dropoff_datetime|PULocationID|DOLocationID|trip_miles|trip_time|base_passenger_fare|tolls| bcf|sales_tax|congestion_surcharge|airport_fee|tips|driver_pay|shared_request_flag|shared_match_flag|access_a_ride_flag|wav_request_flag|wav_match_flag|\n",
      "+-----------------+--------------------+--------------------+-------------------+-------------------+-------------------+-------------------+------------+------------+----------+---------+-------------------+-----+----+---------+--------------------+-----------+----+----------+-------------------+-----------------+------------------+----------------+--------------+\n",
      "|           HV0003|              B02764|              B02764|2021-01-11 21:38:35|2021-01-11 21:39:39|2021-01-11 21:40:22|2021-01-11 22:15:49|         262|         231|      9.61|     2127|              34.54|  0.0|1.04|     3.07|                2.75|       null|8.41|      28.4|                  N|                N|                  |               N|             N|\n",
      "|           HV0003|              B02617|              B02617|2021-01-05 18:09:21|2021-01-05 18:12:56|2021-01-05 18:13:22|2021-01-05 18:27:50|          61|         181|      2.86|      868|              14.73|  0.0|0.44|     1.31|                 0.0|       null| 0.0|     10.42|                  N|                N|                  |               N|             N|\n",
      "|           HV0005|              B02510|                null|2021-01-02 17:24:29|               null|2021-01-02 17:29:43|2021-01-02 17:57:51|         100|           1|    16.899|     1688|              80.04|21.99|3.06|      0.0|                 0.0|       null| 0.0|      41.3|                  N|                N|                 N|               N|             N|\n",
      "|           HV0003|              B02882|              B02882|2021-01-31 21:24:39|2021-01-31 21:40:09|2021-01-31 21:42:09|2021-01-31 21:59:52|         232|           4|      1.51|     1063|              10.61|  0.0|0.33|     0.99|                2.75|       null| 0.0|     10.68|                  N|                N|                  |               N|             N|\n",
      "|           HV0004|              B02800|                null|2021-01-05 22:28:05|               null|2021-01-05 22:33:01|2021-01-05 23:05:08|         162|           1|     16.21|     1926|              66.95|  0.0| 0.0|      0.0|                 0.0|       null| 0.0|     35.04|                  N|                N|                 N|               N|             N|\n",
      "|           HV0003|              B02883|              B02883|2021-01-28 01:19:18|2021-01-28 01:23:20|2021-01-28 01:24:36|2021-01-28 01:26:43|          68|          68|       0.2|      127|              10.38|  0.0|0.31|     0.92|                2.75|       null| 0.0|       6.8|                  N|                N|                  |               N|             N|\n",
      "|           HV0005|              B02510|                null|2021-01-18 03:39:02|               null|2021-01-18 03:52:32|2021-01-18 04:00:12|         205|         205|     1.448|      460|               6.87|  0.0|0.21|     0.61|                 0.0|       null| 0.0|      5.47|                  N|                N|                 N|               N|             N|\n",
      "|           HV0003|              B02869|              B02869|2021-01-30 11:31:55|2021-01-30 11:35:45|2021-01-30 11:35:46|2021-01-30 11:39:42|         256|         255|      0.58|      236|               7.91|  0.0|0.24|      0.7|                 0.0|       null| 0.0|      5.39|                  N|                N|                  |               N|             N|\n",
      "|           HV0003|              B02875|              B02875|2021-01-16 05:23:46|2021-01-16 05:24:46|2021-01-16 05:25:35|2021-01-16 05:34:21|          89|          91|      2.05|      526|                9.9|  0.0| 0.3|     0.88|                 0.0|       null| 0.0|      8.62|                  N|                N|                  |               N|             Y|\n",
      "|           HV0005|              B02510|                null|2021-01-05 05:11:17|               null|2021-01-05 05:17:29|2021-01-05 05:36:56|         132|         102|    10.505|     1167|              35.75|  0.0|1.07|     3.17|                 0.0|       null| 0.0|     21.43|                  N|                N|                 N|               N|             N|\n",
      "|           HV0003|              B02764|              B02764|2021-01-11 14:55:20|2021-01-11 14:57:46|2021-01-11 14:58:23|2021-01-11 15:14:19|          97|          61|      2.76|      956|              12.36|  0.0|0.37|      1.1|                 0.0|       null| 0.0|     11.05|                  N|                N|                  |               N|             N|\n",
      "|           HV0005|              B02510|                null|2021-01-22 06:36:25|               null|2021-01-22 06:41:19|2021-01-22 07:08:12|          79|          37|     6.585|     1613|              27.02| 1.01|0.84|     2.49|                2.75|       null| 2.0|     20.82|                  N|                N|                 N|               N|             N|\n",
      "|           HV0003|              B02866|              B02866|2021-01-03 10:42:21|2021-01-03 10:44:25|2021-01-03 10:44:58|2021-01-03 11:04:45|          26|         178|      3.06|     1187|              14.29|  0.0|0.43|     1.27|                 0.0|       null| 0.0|     13.76|                  N|                N|                  |               N|             N|\n",
      "|           HV0003|              B02889|              B02889|2021-01-14 21:48:33|2021-01-14 21:51:43|2021-01-14 21:52:00|2021-01-14 22:19:00|         181|         198|       5.1|     1620|              29.73|  0.0|0.89|     2.64|                 0.0|       null| 0.0|     21.31|                  N|                N|                  |               N|             N|\n",
      "|           HV0003|              B02764|              B02764|2021-01-08 23:31:03|2021-01-08 23:34:44|2021-01-08 23:35:35|2021-01-09 00:06:33|          76|          91|      6.26|     1858|              28.21|  0.0|0.85|      2.5|                 0.0|       null| 0.0|     22.46|                  N|                N|                  |               N|             N|\n",
      "|           HV0003|              B02876|              B02876|2021-01-15 16:44:47|2021-01-15 16:48:39|2021-01-15 16:49:48|2021-01-15 17:35:23|         246|          16|     15.67|     2735|              46.12| 6.12|1.57|     4.64|                2.75|       null| 0.0|     40.17|                  N|                N|                  |               N|             N|\n",
      "|           HV0003|              B02870|              B02870|2021-01-27 13:35:19|2021-01-27 13:37:28|2021-01-27 13:37:56|2021-01-27 13:53:35|         135|          73|      4.64|      939|              12.01|  0.0|0.36|     1.07|                 0.0|       null| 0.0|     12.98|                  N|                N|                  |               N|             N|\n",
      "|           HV0005|              B02510|                null|2021-01-18 14:40:34|               null|2021-01-18 14:43:30|2021-01-18 14:59:19|          74|         234|     6.122|      949|              22.22|  0.0|0.67|     1.97|                2.75|       null| 0.0|     14.74|                  N|                N|                 N|               N|             N|\n",
      "|           HV0003|              B02617|              B02617|2021-01-11 20:27:35|2021-01-11 20:29:33|2021-01-11 20:29:44|2021-01-11 20:42:49|          68|         211|      2.94|      785|              13.75|  0.0|0.41|     1.22|                2.75|       null| 0.0|      9.81|                  N|                N|                  |               N|             N|\n",
      "|           HV0003|              B02879|              B02879|2021-01-25 00:23:45|2021-01-25 00:31:41|2021-01-25 00:32:15|2021-01-25 00:52:42|         249|         236|      4.66|     1227|              17.38|  0.0|0.52|     1.54|                2.75|       null| 0.0|     15.41|                  N|                N|                  |               N|             N|\n",
      "+-----------------+--------------------+--------------------+-------------------+-------------------+-------------------+-------------------+------------+------------+----------+---------+-------------------+-----+----+---------+--------------------+-----------+----+----------+-------------------+-----------------+------------------+----------------+--------------+\n",
      "only showing top 20 rows\n",
      "\n"
     ]
    }
   ],
   "source": [
    "df.show()"
   ]
  },
  {
   "cell_type": "code",
   "execution_count": 22,
   "metadata": {},
   "outputs": [],
   "source": [
    "def crazy_stuff(base_num):\n",
    "    num = int(base_num[1:])\n",
    "    if num % 7 == 0:\n",
    "        return f's/{num:03x}'\n",
    "    elif num % 3 == 0:\n",
    "        return f'a/{num:03x}'\n",
    "    else:\n",
    "        return f'e/{num:03x}'"
   ]
  },
  {
   "cell_type": "code",
   "execution_count": 23,
   "metadata": {},
   "outputs": [
    {
     "data": {
      "text/plain": [
       "'s/b44'"
      ]
     },
     "execution_count": 23,
     "metadata": {},
     "output_type": "execute_result"
    }
   ],
   "source": [
    "crazy_stuff('B02884')"
   ]
  },
  {
   "cell_type": "code",
   "execution_count": 24,
   "metadata": {},
   "outputs": [],
   "source": [
    "crazy_stuff_udf = F.udf(crazy_stuff, returnType=types.StringType())"
   ]
  },
  {
   "cell_type": "code",
   "execution_count": 25,
   "metadata": {
    "scrolled": true
   },
   "outputs": [
    {
     "name": "stdout",
     "output_type": "stream",
     "text": [
      "+-------+-----------+------------+------------+------------+\n",
      "|base_id|pickup_date|dropoff_date|PULocationID|DOLocationID|\n",
      "+-------+-----------+------------+------------+------------+\n",
      "|  e/acc| 2021-01-11|  2021-01-11|         262|         231|\n",
      "|  e/a39| 2021-01-05|  2021-01-05|          61|         181|\n",
      "|  e/9ce| 2021-01-02|  2021-01-02|         100|           1|\n",
      "|  e/b42| 2021-01-31|  2021-01-31|         232|           4|\n",
      "|  s/af0| 2021-01-05|  2021-01-05|         162|           1|\n",
      "|  a/b43| 2021-01-28|  2021-01-28|          68|          68|\n",
      "|  e/9ce| 2021-01-18|  2021-01-18|         205|         205|\n",
      "|  e/b35| 2021-01-30|  2021-01-30|         256|         255|\n",
      "|  e/b3b| 2021-01-16|  2021-01-16|          89|          91|\n",
      "|  e/9ce| 2021-01-05|  2021-01-05|         132|         102|\n",
      "|  e/acc| 2021-01-11|  2021-01-11|          97|          61|\n",
      "|  e/9ce| 2021-01-22|  2021-01-22|          79|          37|\n",
      "|  e/b32| 2021-01-03|  2021-01-03|          26|         178|\n",
      "|  a/b49| 2021-01-14|  2021-01-14|         181|         198|\n",
      "|  e/acc| 2021-01-08|  2021-01-09|          76|          91|\n",
      "|  e/b3c| 2021-01-15|  2021-01-15|         246|          16|\n",
      "|  s/b36| 2021-01-27|  2021-01-27|         135|          73|\n",
      "|  e/9ce| 2021-01-18|  2021-01-18|          74|         234|\n",
      "|  e/a39| 2021-01-11|  2021-01-11|          68|         211|\n",
      "|  e/b3f| 2021-01-25|  2021-01-25|         249|         236|\n",
      "+-------+-----------+------------+------------+------------+\n",
      "only showing top 20 rows\n",
      "\n"
     ]
    }
   ],
   "source": [
    "df \\\n",
    "    .withColumn('pickup_date', F.to_date(df.pickup_datetime)) \\\n",
    "    .withColumn('dropoff_date', F.to_date(df.dropoff_datetime)) \\\n",
    "    .withColumn('base_id', crazy_stuff_udf(df.dispatching_base_num)) \\\n",
    "    .select('base_id', 'pickup_date', 'dropoff_date', 'PULocationID', 'DOLocationID') \\\n",
    "    .show()"
   ]
  },
  {
   "cell_type": "code",
   "execution_count": 28,
   "metadata": {},
   "outputs": [
    {
     "data": {
      "text/plain": [
       "[Row(pickup_datetime=datetime.datetime(2021, 1, 11, 21, 40, 22), dropoff_datetime=datetime.datetime(2021, 1, 11, 22, 15, 49), PULocationID=262, DOLocationID=231),\n",
       " Row(pickup_datetime=datetime.datetime(2021, 1, 5, 18, 13, 22), dropoff_datetime=datetime.datetime(2021, 1, 5, 18, 27, 50), PULocationID=61, DOLocationID=181),\n",
       " Row(pickup_datetime=datetime.datetime(2021, 1, 31, 21, 42, 9), dropoff_datetime=datetime.datetime(2021, 1, 31, 21, 59, 52), PULocationID=232, DOLocationID=4),\n",
       " Row(pickup_datetime=datetime.datetime(2021, 1, 28, 1, 24, 36), dropoff_datetime=datetime.datetime(2021, 1, 28, 1, 26, 43), PULocationID=68, DOLocationID=68),\n",
       " Row(pickup_datetime=datetime.datetime(2021, 1, 30, 11, 35, 46), dropoff_datetime=datetime.datetime(2021, 1, 30, 11, 39, 42), PULocationID=256, DOLocationID=255),\n",
       " Row(pickup_datetime=datetime.datetime(2021, 1, 16, 5, 25, 35), dropoff_datetime=datetime.datetime(2021, 1, 16, 5, 34, 21), PULocationID=89, DOLocationID=91),\n",
       " Row(pickup_datetime=datetime.datetime(2021, 1, 11, 14, 58, 23), dropoff_datetime=datetime.datetime(2021, 1, 11, 15, 14, 19), PULocationID=97, DOLocationID=61),\n",
       " Row(pickup_datetime=datetime.datetime(2021, 1, 3, 10, 44, 58), dropoff_datetime=datetime.datetime(2021, 1, 3, 11, 4, 45), PULocationID=26, DOLocationID=178),\n",
       " Row(pickup_datetime=datetime.datetime(2021, 1, 14, 21, 52), dropoff_datetime=datetime.datetime(2021, 1, 14, 22, 19), PULocationID=181, DOLocationID=198),\n",
       " Row(pickup_datetime=datetime.datetime(2021, 1, 8, 23, 35, 35), dropoff_datetime=datetime.datetime(2021, 1, 9, 0, 6, 33), PULocationID=76, DOLocationID=91)]"
      ]
     },
     "execution_count": 28,
     "metadata": {},
     "output_type": "execute_result"
    }
   ],
   "source": [
    "df.select('pickup_datetime', 'dropoff_datetime', 'PULocationID', 'DOLocationID') \\\n",
    "  .filter(df.hvfhs_license_num == 'HV0003').head(10)\n"
   ]
  },
  {
   "cell_type": "code",
   "execution_count": 50,
   "metadata": {},
   "outputs": [
    {
     "name": "stdout",
     "output_type": "stream",
     "text": [
      "hvfhs_license_num,dispatching_base_num,pickup_datetime,dropoff_datetime,PULocationID,DOLocationID,SR_Flag\r",
      "\r\n",
      "HV0003,B02682,2021-01-01 00:33:44,2021-01-01 00:49:07,230,166,\r",
      "\r\n",
      "HV0003,B02682,2021-01-01 00:55:19,2021-01-01 01:18:21,152,167,\r",
      "\r\n",
      "HV0003,B02764,2021-01-01 00:23:56,2021-01-01 00:38:05,233,142,\r",
      "\r\n",
      "HV0003,B02764,2021-01-01 00:42:51,2021-01-01 00:45:50,142,143,\r",
      "\r\n",
      "HV0003,B02764,2021-01-01 00:48:14,2021-01-01 01:08:42,143,78,\r",
      "\r\n",
      "HV0005,B02510,2021-01-01 00:06:59,2021-01-01 00:43:01,88,42,\r",
      "\r\n",
      "HV0005,B02510,2021-01-01 00:50:00,2021-01-01 01:04:57,42,151,\r",
      "\r\n",
      "HV0003,B02764,2021-01-01 00:14:30,2021-01-01 00:50:27,71,226,\r",
      "\r\n",
      "HV0003,B02875,2021-01-01 00:22:54,2021-01-01 00:30:20,112,255,\r",
      "\r\n"
     ]
    }
   ],
   "source": [
    "# !head -n 10 head.csv"
   ]
  },
  {
   "cell_type": "code",
   "execution_count": null,
   "metadata": {},
   "outputs": [],
   "source": []
  }
 ],
 "metadata": {
  "kernelspec": {
   "display_name": "Python 3",
   "language": "python",
   "name": "python3"
  },
  "language_info": {
   "codemirror_mode": {
    "name": "ipython",
    "version": 3
   },
   "file_extension": ".py",
   "mimetype": "text/x-python",
   "name": "python",
   "nbconvert_exporter": "python",
   "pygments_lexer": "ipython3",
   "version": "3.8.5"
  }
 },
 "nbformat": 4,
 "nbformat_minor": 5
}
