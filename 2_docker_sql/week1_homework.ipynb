{
 "cells": [
  {
   "cell_type": "markdown",
   "metadata": {},
   "source": [
    "### 1. Question. Count records\n",
    "How many taxi trips were there on January 15?\n",
    "\n",
    "Consider only trips that started on January 15."
   ]
  },
  {
   "cell_type": "code",
   "execution_count": null,
   "metadata": {
    "vscode": {
     "languageId": "plaintext"
    }
   },
   "outputs": [],
   "source": [
    "%%sql\n",
    "\n",
    "SELECT COUNT(*)\n",
    "FROM yellow_taxi_data_parquet_2021\n",
    "WHERE TO_CHAR(tpep_pickup_datetime :: DATE, 'yyyy-mm-dd') = '2021-01-15';"
   ]
  },
  {
   "cell_type": "code",
   "execution_count": null,
   "metadata": {
    "vscode": {
     "languageId": "plaintext"
    }
   },
   "outputs": [],
   "source": [
    "%%sql\n",
    "\n",
    "SELECT COUNT(*)\n",
    "FROM yellow_taxi_data_parquet_2021\n",
    "WHERE CAST(tpep_pickup_datetime AS DATE) = '2021-01-15';"
   ]
  },
  {
   "cell_type": "markdown",
   "metadata": {},
   "source": [
    "## 2. Largest tip for each day\n",
    "Find the largest tip for each day. On which day it was the largest tip in January?\n",
    "\n",
    "Use the pick up time for your calculations.\n",
    "\n",
    "(note: it's not a typo, it's \"tip\", not \"trip\")"
   ]
  },
  {
   "cell_type": "code",
   "execution_count": null,
   "metadata": {
    "vscode": {
     "languageId": "plaintext"
    }
   },
   "outputs": [],
   "source": [
    "%%sql\n",
    "\n",
    "SELECT TO_CHAR(tpep_pickup_datetime :: DATE, 'yyyy-mm-dd') AS pickup_date,\n",
    "       MAX(tip_amount) AS largest_tip_per_day\n",
    "FROM yellow_taxi_data_parquet_2021\n",
    "GROUP BY 1\n",
    "ORDER BY 2 DESC\n",
    "LIMIT 20;"
   ]
  },
  {
   "cell_type": "code",
   "execution_count": null,
   "metadata": {
    "vscode": {
     "languageId": "plaintext"
    }
   },
   "outputs": [],
   "source": [
    "%%sql\n",
    "\n",
    "SELECT CAST(tpep_pickup_datetime AS DATE) AS pickup_date,\n",
    "       MAX(tip_amount) AS largest_tip_per_day\n",
    "FROM yellow_taxi_data_parquet_2021\n",
    "GROUP BY 1\n",
    "ORDER BY 2 DESC\n",
    "LIMIT 20;"
   ]
  },
  {
   "cell_type": "markdown",
   "metadata": {},
   "source": [
    "### 3. Most popular destination\n",
    "What was the most popular destination for passengers picked up in central park on January 14?\n",
    "\n",
    "Use the pick up time for your calculations.\n",
    "\n",
    "Enter the zone name (not id). If the zone name is unknown (missing), write \"Unknown\""
   ]
  },
  {
   "cell_type": "code",
   "execution_count": null,
   "metadata": {
    "vscode": {
     "languageId": "plaintext"
    }
   },
   "outputs": [],
   "source": [
    "%%sql\n",
    "\n",
    "SELECT tpep_pickup_datetime AS pickup_time,\n",
    "       \"PULocationID\" AS pickup_id,\n",
    "       \"DOLocationID\" AS dropoff_id,\n",
    "       \"Borough\",\n",
    "       \"Zone\",\n",
    "       service_zone\n",
    "FROM yellow_taxi_data_parquet_2021 yt\n",
    "JOIN zones z\n",
    "ON yt.\"PULocationID\" = z.\"LocationID\"\n",
    "WHERE TO_CHAR(tpep_pickup_datetime :: DATE, 'yyyy-mm-dd') = '2021-01-14'\n",
    "      AND z.\"Zone\" = 'Central Park'"
   ]
  },
  {
   "cell_type": "markdown",
   "metadata": {},
   "source": [
    "### 4. Most expensive locations\n",
    "What's the pickup-dropoff pair with the largest average price for a ride (calculated based on total_amount)?\n",
    "\n",
    "Enter two zone names separated by a slash\n",
    "\n",
    "For example:\n",
    "\n",
    "\"Jamaica Bay / Clinton East\"\n",
    "\n",
    "If any of the zone names are unknown (missing), write \"Unknown\". For example, \"Unknown / Clinton East\"."
   ]
  },
  {
   "cell_type": "code",
   "execution_count": null,
   "metadata": {
    "vscode": {
     "languageId": "plaintext"
    }
   },
   "outputs": [],
   "source": [
    "%%sql\n",
    "\n",
    "SELECT\n",
    "\tCONCAT(zpu.\"Zone\", '/', zdo.\"Zone\") AS \"pickup_dropoff_pair\",\n",
    "    AVG(total_amount)\n",
    "FROM\n",
    "\tyellow_taxi_trips t\n",
    "JOIN zones zpu ON t.\"PULocationID\" = zpu.\"LocationID\"\n",
    "JOIN zones zdo ON t.\"DOLocationID\" = zdo.\"LocationID\"\n",
    "GROUP BY 1\n",
    "ORDER BY 2 DESC;"
   ]
  },
  {
   "cell_type": "code",
   "execution_count": null,
   "metadata": {
    "vscode": {
     "languageId": "plaintext"
    }
   },
   "outputs": [],
   "source": []
  }
 ],
 "metadata": {
  "language_info": {
   "name": "python"
  },
  "orig_nbformat": 4
 },
 "nbformat": 4,
 "nbformat_minor": 2
}
